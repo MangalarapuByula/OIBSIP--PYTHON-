{
  "nbformat": 4,
  "nbformat_minor": 0,
  "metadata": {
    "colab": {
      "provenance": [],
      "authorship_tag": "ABX9TyMIQkZSdMgBubpH09HkUn22",
      "include_colab_link": true
    },
    "kernelspec": {
      "name": "python3",
      "display_name": "Python 3"
    },
    "language_info": {
      "name": "python"
    }
  },
  "cells": [
    {
      "cell_type": "markdown",
      "metadata": {
        "id": "view-in-github",
        "colab_type": "text"
      },
      "source": [
        "<a href=\"https://colab.research.google.com/github/MangalarapuByula/OIBSIP--PYTHON-/blob/main/Password.ipynb\" target=\"_parent\"><img src=\"https://colab.research.google.com/assets/colab-badge.svg\" alt=\"Open In Colab\"/></a>"
      ]
    },
    {
      "cell_type": "code",
      "execution_count": 1,
      "metadata": {
        "colab": {
          "base_uri": "https://localhost:8080/"
        },
        "id": "4QFWGGUZL2zU",
        "outputId": "23ce364d-4e5a-448f-f8c2-1a5968b2cf6f"
      },
      "outputs": [
        {
          "output_type": "stream",
          "name": "stdout",
          "text": [
            "Enter the length of the password (default is 12): 12\n",
            "Generated Password: 7ucsO+q;-2zq\n"
          ]
        }
      ],
      "source": [
        "import random\n",
        "import string\n",
        "\n",
        "def generate_password(length=12):\n",
        "    \"\"\"Generate a random password.\n",
        "\n",
        "    Args:\n",
        "        length (int): Length of the password. Defaults to 12.\n",
        "\n",
        "    Returns:\n",
        "        str: The generated password.\n",
        "    \"\"\"\n",
        "    characters = string.ascii_letters + string.digits + string.punctuation\n",
        "    password = ''.join(random.choice(characters) for _ in range(length))\n",
        "    return password\n",
        "\n",
        "def main():\n",
        "    \"\"\"Main function to generate and display a password.\"\"\"\n",
        "    try:\n",
        "        password_length = int(input(\"Enter the length of the password (default is 12): \"))\n",
        "        if password_length <= 0:\n",
        "            raise ValueError(\"Password length should be a positive integer.\")\n",
        "    except ValueError:\n",
        "        print(\"Invalid input. Using default password length of 12.\")\n",
        "        password_length = 12\n",
        "\n",
        "    generated_password = generate_password(password_length)\n",
        "    print(\"Generated Password:\", generated_password)\n",
        "\n",
        "if __name__ == \"__main__\":\n",
        "    main()"
      ]
    }
  ]
}